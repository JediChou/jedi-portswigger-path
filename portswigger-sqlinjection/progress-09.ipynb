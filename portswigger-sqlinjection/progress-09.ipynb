{
 "cells": [
  {
   "cell_type": "markdown",
   "id": "2e12e987-5a69-4022-9510-d22d3058c6c5",
   "metadata": {},
   "source": [
    "# SQL injection UNION attacks\n",
    "\n",
    "When an application is vulnerable to SQL injection, and the results of the query are returned within the application's responses, you can use the `UNION` keyword to retrieve data from other tables within the database. This is commonly known as a SQL injection UNION attack.\n",
    "\n",
    "The `UNION` keyword enables you to execute one or more additional `SELECT` queries and append the results to the original query. For example:\n",
    "\n",
    "```sql\n",
    "SELECT a, b FROM table1 UNION SELECT c, d FROM table2\n",
    "```\n",
    "\n",
    "This SQL query returns a single result set with two columns, containing values from columns `a` and `b` in table1 and columns `c` and `d` in table2."
   ]
  }
 ],
 "metadata": {
  "kernelspec": {
   "display_name": "Python 3 (ipykernel)",
   "language": "python",
   "name": "python3"
  },
  "language_info": {
   "codemirror_mode": {
    "name": "ipython",
    "version": 3
   },
   "file_extension": ".py",
   "mimetype": "text/x-python",
   "name": "python",
   "nbconvert_exporter": "python",
   "pygments_lexer": "ipython3",
   "version": "3.9.7"
  }
 },
 "nbformat": 4,
 "nbformat_minor": 5
}
