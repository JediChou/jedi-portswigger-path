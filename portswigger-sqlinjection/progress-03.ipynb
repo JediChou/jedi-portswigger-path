{
 "cells": [
  {
   "cell_type": "markdown",
   "id": "82162acc-c7c2-4504-ae5f-0dcf3cd0993f",
   "metadata": {},
   "source": [
    "# SQL injection in different parts of the query\n",
    "\n",
    "Most SQL injection vulnerabilities occur within the `WHERE` clause of a `SELECT` query. Most experienced testers are familiar with this type of SQL injection.\n",
    "\n",
    "However, SQL injection vulnerabilities can occur at any location within the query, and within different query types. Some other common locations where SQL injection arises are:\n",
    "\n",
    "* In `UPDATE` statements, within the updated values or the `WHERE` clause.\n",
    "* In `INSERT` statements, within the inserted values.\n",
    "* In `SELECT` statements, within the table or column name.\n",
    "* In `SELECT` statements, within the `ORDER BY` clause."
   ]
  }
 ],
 "metadata": {
  "kernelspec": {
   "display_name": "Python 3 (ipykernel)",
   "language": "python",
   "name": "python3"
  },
  "language_info": {
   "codemirror_mode": {
    "name": "ipython",
    "version": 3
   },
   "file_extension": ".py",
   "mimetype": "text/x-python",
   "name": "python",
   "nbconvert_exporter": "python",
   "pygments_lexer": "ipython3",
   "version": "3.9.7"
  }
 },
 "nbformat": 4,
 "nbformat_minor": 5
}
