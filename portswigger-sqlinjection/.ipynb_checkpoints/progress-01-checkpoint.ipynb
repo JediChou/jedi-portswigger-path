{
 "cells": [
  {
   "cell_type": "markdown",
   "id": "91eb1021-caba-4c83-9216-9e3ddb9bc8fa",
   "metadata": {},
   "source": [
    "# What is SQL injection (SQLi)?\n",
    "\n",
    "SQL injection (SQLi) is a web security vulnerability that allows an attacker to interfere with the queries that an application makes to its database. This can allow an attacker to view data that they are not normally able to retrieve. This might include data that belongs to other users, or any other data that the application can access. In many cases, an attacker can modify or delete this data, causing persistent changes to the application's content or behavior.\n",
    "\n",
    "In some situations, an attacker can escalate a SQL injection attack to compromise the underlying server or other back-end infrastructure. It can also enable them to perform denial-of-service attacks."
   ]
  }
 ],
 "metadata": {
  "kernelspec": {
   "display_name": "Python 3 (ipykernel)",
   "language": "python",
   "name": "python3"
  },
  "language_info": {
   "codemirror_mode": {
    "name": "ipython",
    "version": 3
   },
   "file_extension": ".py",
   "mimetype": "text/x-python",
   "name": "python",
   "nbconvert_exporter": "python",
   "pygments_lexer": "ipython3",
   "version": "3.9.7"
  }
 },
 "nbformat": 4,
 "nbformat_minor": 5
}
