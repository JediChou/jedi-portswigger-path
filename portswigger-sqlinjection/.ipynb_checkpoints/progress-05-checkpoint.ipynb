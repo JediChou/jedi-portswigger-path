{
 "cells": [
  {
   "cell_type": "markdown",
   "id": "2ba2f5d7-a795-4a82-a3fd-28e0e21041be",
   "metadata": {},
   "source": [
    "# Retrieving hidden data - Continued\n",
    "\n",
    "The application doesn't implement any defenses against SQL injection attacks. This means an attacker can construct the following attack, for example:\n",
    "\n",
    "```url\n",
    "https://insecure-website.com/products?category=Gifts'--\n",
    "```\n",
    "\n",
    "This results in the SQL query:\n",
    "\n",
    "```sql\n",
    "SELECT * FROM products WHERE category = 'Gifts'--' AND released = 1\n",
    "```\n",
    "\n",
    "Crucially, note that `--` is a comment indicator in SQL. This means that the rest of the query is interpreted as a comment, effectively removing it. In this example, this means the query no longer includes `AND released = 1`. As a result, all products are displayed, including those that are not yet released.\n",
    "\n",
    "You can use a similar attack to cause the application to display all the products in any category, including categories that they don't know about:\n",
    "\n",
    "```url\n",
    "https://insecure-website.com/products?category=Gifts'+OR+1=1--\n",
    "```\n",
    "\n",
    "This results in the SQL query:\n",
    "\n",
    "```sql\n",
    "SELECT * FROM products WHERE category = 'Gifts' OR 1=1--' AND released = 1\n",
    "```\n",
    "\n",
    "The modified query returns all items where either the `category` is `Gifts`, or `1` is equal to `1`. As `1=1` is always true, the query returns all items."
   ]
  },
  {
   "cell_type": "markdown",
   "id": "d5372e6f-1e3d-4116-b5fc-9c372faeef81",
   "metadata": {},
   "source": [
    "**`Warning`**\n",
    "\n",
    "Take care when injecting the condition `OR 1=1` into a SQL query. Even if it appears to be harmless in the context you're injecting into, it's common for applications to use data from a single request in multiple different queries. If your condition reaches an `UPDATE` or `DELETE` statement, for example, it can result in an accidental loss of data."
   ]
  }
 ],
 "metadata": {
  "kernelspec": {
   "display_name": "Python 3 (ipykernel)",
   "language": "python",
   "name": "python3"
  },
  "language_info": {
   "codemirror_mode": {
    "name": "ipython",
    "version": 3
   },
   "file_extension": ".py",
   "mimetype": "text/x-python",
   "name": "python",
   "nbconvert_exporter": "python",
   "pygments_lexer": "ipython3",
   "version": "3.9.7"
  }
 },
 "nbformat": 4,
 "nbformat_minor": 5
}
