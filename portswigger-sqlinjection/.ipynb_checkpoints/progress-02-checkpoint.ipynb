{
 "cells": [
  {
   "cell_type": "markdown",
   "id": "8e31f46e-4dee-4a5d-ac2d-43db7e138bb0",
   "metadata": {},
   "source": [
    "# How to detect SQL injection vulnerabilities\n",
    "\n",
    "You can detect SQL injection manually using a systematic set of tests against every entry point in the application. To do this, you would typically submit:\n",
    "\n",
    "* The single quote character ' and look for errors or other anomalies.\n",
    "* Some SQL-specific syntax that evaluates to the base (original) value of the entry point, and to a different value, and look for systematic differences in the application responses.\n",
    "* Boolean conditions such as`OR 1=1` and`OR 1=2`, and look for differences in the application's responses.\n",
    "* Payloads designed to trigger time delays when executed within a SQL query, and look for differences in the time taken to respond.\n",
    "OAST payloads designed to trigger an out-of-band network interaction when executed within a SQL query, and monitor any resulting interactions."
   ]
  }
 ],
 "metadata": {
  "kernelspec": {
   "display_name": "Python 3 (ipykernel)",
   "language": "python",
   "name": "python3"
  },
  "language_info": {
   "codemirror_mode": {
    "name": "ipython",
    "version": 3
   },
   "file_extension": ".py",
   "mimetype": "text/x-python",
   "name": "python",
   "nbconvert_exporter": "python",
   "pygments_lexer": "ipython3",
   "version": "3.9.7"
  }
 },
 "nbformat": 4,
 "nbformat_minor": 5
}
