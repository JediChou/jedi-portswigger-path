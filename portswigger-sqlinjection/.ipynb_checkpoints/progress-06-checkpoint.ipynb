{
 "cells": [
  {
   "cell_type": "markdown",
   "id": "fb322a87-c313-4d07-b010-a390358caa85",
   "metadata": {},
   "source": [
    "# Lab: SQL injection vulnerability in WHERE clause allowing retrieval of hidden data\n",
    "\n",
    "This lab contains a SQL injection vulnerability in the product category filter. When the user selects a category, the application carries out a SQL query like the following:\n",
    "\n",
    "```sql\n",
    "SELECT * FROM products WHERE category = 'Gifts' AND released = 1\n",
    "```\n",
    "\n",
    "To solve the lab, perform a SQL injection attack that causes the application to display one or more unreleased products."
   ]
  },
  {
   "cell_type": "markdown",
   "id": "49751106-45ed-49c9-8dfa-061707b3bc17",
   "metadata": {},
   "source": [
    "<br>\n",
    "\n",
    "## Solution\n",
    "\n",
    "1. Use Burp Suite to intercept and modify the request that sets the product category filter.\n",
    "2. Modify the `category` parameter, giving it the value `'+OR+1=1--`\n",
    "3. Submit the request, and verify that the response now contains one or more unreleased products."
   ]
  }
 ],
 "metadata": {
  "kernelspec": {
   "display_name": "Python 3 (ipykernel)",
   "language": "python",
   "name": "python3"
  },
  "language_info": {
   "codemirror_mode": {
    "name": "ipython",
    "version": 3
   },
   "file_extension": ".py",
   "mimetype": "text/x-python",
   "name": "python",
   "nbconvert_exporter": "python",
   "pygments_lexer": "ipython3",
   "version": "3.9.7"
  }
 },
 "nbformat": 4,
 "nbformat_minor": 5
}
