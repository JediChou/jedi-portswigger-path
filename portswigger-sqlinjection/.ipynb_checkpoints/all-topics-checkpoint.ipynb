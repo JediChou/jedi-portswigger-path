{
 "cells": [
  {
   "cell_type": "markdown",
   "id": "0dc8a1d5-35c5-49b2-9188-5bfd1726d229",
   "metadata": {},
   "source": [
    "# All topics\n",
    "\n",
    "Links: <https://portswigger.net/web-security/all-topics>"
   ]
  },
  {
   "cell_type": "markdown",
   "id": "d65ed7df-4523-492e-b068-63f7348abde3",
   "metadata": {},
   "source": [
    "<br>\n",
    "\n",
    "## Server-side topics\n",
    "\n",
    "For complete beginners, we recommend starting with our server-side topics. These vulnerabilities are typically easier to learn because you only need to understand what's happening on the server. Our materials and labs will help you develop some of the core knowledge and skills that you will rely on time after time."
   ]
  },
  {
   "cell_type": "markdown",
   "id": "6c96bb61-7e59-4a96-b134-020e3020cbe9",
   "metadata": {},
   "source": [
    "<br>\n",
    "\n",
    "### SQL injection\n",
    "\n",
    "SQL injection is an old-but-gold vulnerability responsible for many high-profile data breaches. Although relatively simple to learn, it can potentially be used for some high-severity exploits. This makes it an ideal first topic for beginners, and essential knowledge even for more experienced users."
   ]
  },
  {
   "cell_type": "markdown",
   "id": "5b6d993e-a894-4869-81b6-dab1d2ef0772",
   "metadata": {},
   "source": [
    "<br>\n",
    "\n",
    "### Authentication\n",
    "\n",
    "Conceptually, authentication vulnerabilities are easy to understand. However, they are usually critical because of the clear relationship between authentication and security.\n",
    "\n",
    "Authentication vulnerabilities can allow attackers to gain access to sensitive data and functionality. They also expose additional attack surface for further exploits. For this reason, it's important to learn how to identify and exploit authentication vulnerabilities, and how to bypass common protection measures."
   ]
  },
  {
   "cell_type": "markdown",
   "id": "a1923cc2-b067-41a0-b5db-70a1ee534af9",
   "metadata": {},
   "source": [
    "<br>\n",
    "\n",
    "### Path traversal\n",
    "\n",
    "Path traversal is also known as directory traversal. These vulnerabilities enable an attacker to read arbitrary files on the server that is running an application. This might include:\n",
    "\n",
    "* Application code and data.\n",
    "* Credentials for back-end systems.\n",
    "* Sensitive operating system files.\n",
    "\n",
    "In some cases, an attacker might be able to write to arbitrary files on the server, allowing them to modify application data or behavior, and ultimately take full control of the server."
   ]
  }
 ],
 "metadata": {
  "kernelspec": {
   "display_name": "Python 3 (ipykernel)",
   "language": "python",
   "name": "python3"
  },
  "language_info": {
   "codemirror_mode": {
    "name": "ipython",
    "version": 3
   },
   "file_extension": ".py",
   "mimetype": "text/x-python",
   "name": "python",
   "nbconvert_exporter": "python",
   "pygments_lexer": "ipython3",
   "version": "3.9.7"
  }
 },
 "nbformat": 4,
 "nbformat_minor": 5
}
