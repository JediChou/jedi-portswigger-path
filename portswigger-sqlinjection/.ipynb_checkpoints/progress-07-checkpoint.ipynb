{
 "cells": [
  {
   "cell_type": "markdown",
   "id": "d22fc7bb-52e0-41e4-ab6a-267cc331f2e1",
   "metadata": {},
   "source": [
    "# Subverting application logic\n",
    "\n",
    "Imagine an application that lets users log in with a username and password. If a user submits the username `wiener` and the password `bluecheese`, the application checks the credentials by performing the following SQL query:\n",
    "\n",
    "```sql\n",
    "SELECT * FROM users WHERE username = 'wiener' AND password = 'bluecheese'\n",
    "```\n",
    "\n",
    "If the query returns the details of a user, then the login is successful. Otherwise, it is rejected.\n",
    "\n",
    "In this case, an attacker can log in as any user without the need for a password. They can do this using the SQL comment sequence `--` to remove the password check from the `WHERE` clause of the query. For example, submitting the username `administrator'--` and a blank password results in the following query:\n",
    "\n",
    "```sql\n",
    "SELECT * FROM users WHERE username = 'administrator'--' AND password = ''\n",
    "```\n",
    "\n",
    "This query returns the user whose `username` is `administrator` and successfully logs the attacker in as that user."
   ]
  }
 ],
 "metadata": {
  "kernelspec": {
   "display_name": "Python 3 (ipykernel)",
   "language": "python",
   "name": "python3"
  },
  "language_info": {
   "codemirror_mode": {
    "name": "ipython",
    "version": 3
   },
   "file_extension": ".py",
   "mimetype": "text/x-python",
   "name": "python",
   "nbconvert_exporter": "python",
   "pygments_lexer": "ipython3",
   "version": "3.9.7"
  }
 },
 "nbformat": 4,
 "nbformat_minor": 5
}
