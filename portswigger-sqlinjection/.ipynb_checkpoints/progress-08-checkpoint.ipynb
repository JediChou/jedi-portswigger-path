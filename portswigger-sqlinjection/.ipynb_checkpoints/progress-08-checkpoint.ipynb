{
 "cells": [
  {
   "cell_type": "markdown",
   "id": "f249048d-9fc1-4723-ac56-0f956c16c78e",
   "metadata": {},
   "source": [
    "# Lab: SQL injection vulnerability allowing login bypass\n",
    "\n",
    "This lab contains a SQL injection vulnerability in the login function.\n",
    "\n",
    "To solve the lab, perform a SQL injection attack that logs in to the application as the `administrator` user."
   ]
  },
  {
   "cell_type": "markdown",
   "id": "6afd2922-0c05-46ca-bd4e-1fccb31f4151",
   "metadata": {},
   "source": [
    "<br>\n",
    "\n",
    "## Solution\n",
    "\n",
    "1. Use Burp Suite to intercept and modify the login request.\n",
    "2. Modify the `username` parameter, giving it the value: `administrator'--`"
   ]
  },
  {
   "cell_type": "markdown",
   "id": "988ea185-763c-4a46-a539-cf8363d9a08f",
   "metadata": {},
   "source": [
    "<br>\n",
    "\n",
    "## Community solutions\n",
    "\n",
    "* Rana Khalil: <https://www.youtube.com/embed/ML3aGaloczI?origin=https://portswigger.net&rel=0>"
   ]
  }
 ],
 "metadata": {
  "kernelspec": {
   "display_name": "Python 3 (ipykernel)",
   "language": "python",
   "name": "python3"
  },
  "language_info": {
   "codemirror_mode": {
    "name": "ipython",
    "version": 3
   },
   "file_extension": ".py",
   "mimetype": "text/x-python",
   "name": "python",
   "nbconvert_exporter": "python",
   "pygments_lexer": "ipython3",
   "version": "3.9.7"
  }
 },
 "nbformat": 4,
 "nbformat_minor": 5
}
