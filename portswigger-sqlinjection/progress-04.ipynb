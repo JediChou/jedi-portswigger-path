{
 "cells": [
  {
   "cell_type": "markdown",
   "id": "c700b1b7-0321-4901-baf2-3820186aa86f",
   "metadata": {},
   "source": [
    "# Retrieving hidden data\n",
    "\n",
    "Imagine a shopping application that displays products in different categories. When the user clicks on the Gifts category, their browser requests the URL:\n",
    "\n",
    "```url\n",
    "https://insecure-website.com/products?category=Gifts\n",
    "```\n",
    "\n",
    "This causes the application to make a SQL query to retrieve details of the relevant products from the database:\n",
    "\n",
    "```sql\n",
    "SELECT * FROM products WHERE category = 'Gifts' AND released = 1\n",
    "```\n",
    "\n",
    "This SQL query asks the database to return:\n",
    "\n",
    "* all details (`*`)\n",
    "* from the `products` table\n",
    "* where the `category` is `Gifts`\n",
    "* and `released` is `1`.\n",
    "\n",
    "The restriction `released = 1` is being used to hide products that are not released. We could assume for unreleased products, `released = 0`."
   ]
  }
 ],
 "metadata": {
  "kernelspec": {
   "display_name": "Python 3 (ipykernel)",
   "language": "python",
   "name": "python3"
  },
  "language_info": {
   "codemirror_mode": {
    "name": "ipython",
    "version": 3
   },
   "file_extension": ".py",
   "mimetype": "text/x-python",
   "name": "python",
   "nbconvert_exporter": "python",
   "pygments_lexer": "ipython3",
   "version": "3.9.7"
  }
 },
 "nbformat": 4,
 "nbformat_minor": 5
}
